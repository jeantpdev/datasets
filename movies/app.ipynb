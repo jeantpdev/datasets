{
 "cells": [
  {
   "cell_type": "code",
   "execution_count": 4,
   "metadata": {},
   "outputs": [],
   "source": [
    "import pandas as pd\n",
    "import matplotlib as plt"
   ]
  },
  {
   "cell_type": "code",
   "execution_count": 5,
   "metadata": {},
   "outputs": [],
   "source": [
    "df_ruta = \"./movies.csv\""
   ]
  },
  {
   "cell_type": "code",
   "execution_count": 6,
   "metadata": {},
   "outputs": [],
   "source": [
    "df = pd.read_csv(df_ruta)"
   ]
  },
  {
   "cell_type": "code",
   "execution_count": 196,
   "metadata": {},
   "outputs": [
    {
     "data": {
      "text/html": [
       "<div>\n",
       "<style scoped>\n",
       "    .dataframe tbody tr th:only-of-type {\n",
       "        vertical-align: middle;\n",
       "    }\n",
       "\n",
       "    .dataframe tbody tr th {\n",
       "        vertical-align: top;\n",
       "    }\n",
       "\n",
       "    .dataframe thead th {\n",
       "        text-align: right;\n",
       "    }\n",
       "</style>\n",
       "<table border=\"1\" class=\"dataframe\">\n",
       "  <thead>\n",
       "    <tr style=\"text-align: right;\">\n",
       "      <th></th>\n",
       "      <th>Movie URL</th>\n",
       "      <th>Title</th>\n",
       "      <th>Poster</th>\n",
       "      <th>Release Year</th>\n",
       "      <th>Length in Min</th>\n",
       "      <th>IMDB Rating</th>\n",
       "      <th>Rating Count</th>\n",
       "      <th>Plot</th>\n",
       "      <th>Directors</th>\n",
       "      <th>Writers</th>\n",
       "      <th>Stars</th>\n",
       "      <th>Genres</th>\n",
       "    </tr>\n",
       "  </thead>\n",
       "  <tbody>\n",
       "    <tr>\n",
       "      <th>0</th>\n",
       "      <td>https://www.imdb.com/title/tt0001892/?ref_=sr_t_3</td>\n",
       "      <td>Den sorte drøm</td>\n",
       "      <td>https://m.media-amazon.com/images/M/MV5BZjg0Yj...</td>\n",
       "      <td>1911.0</td>\n",
       "      <td>53.0</td>\n",
       "      <td>5.8</td>\n",
       "      <td>265.0</td>\n",
       "      <td>Two men of high rank are both wooing the beaut...</td>\n",
       "      <td>Urban Gad|</td>\n",
       "      <td>Urban Gad|Gebhard Schätzler-Perasini|</td>\n",
       "      <td>Asta Nielsen|Valdemar Psilander|Gunnar Helseng...</td>\n",
       "      <td>Drama</td>\n",
       "    </tr>\n",
       "    <tr>\n",
       "      <th>1</th>\n",
       "      <td>https://www.imdb.com/title/tt0001964/?ref_=sr_t_6</td>\n",
       "      <td>Die Verräterin</td>\n",
       "      <td>https://m.media-amazon.com/images/M/MV5BNjI2Nj...</td>\n",
       "      <td>1911.0</td>\n",
       "      <td>48.0</td>\n",
       "      <td>5.9</td>\n",
       "      <td>100.0</td>\n",
       "      <td>A woman betrays the regiment location in which...</td>\n",
       "      <td>Urban Gad</td>\n",
       "      <td>Erich Zeiske|</td>\n",
       "      <td>Asta Nielsen|Max Obal|Robert Valberg</td>\n",
       "      <td>Drama</td>\n",
       "    </tr>\n",
       "    <tr>\n",
       "      <th>2</th>\n",
       "      <td>https://www.imdb.com/title/tt0002101/?ref_=sr_t_1</td>\n",
       "      <td>Cleopatra</td>\n",
       "      <td>https://m.media-amazon.com/images/M/MV5BZTcyMG...</td>\n",
       "      <td>1912.0</td>\n",
       "      <td>100.0</td>\n",
       "      <td>5.1</td>\n",
       "      <td>620.0</td>\n",
       "      <td>The fabled queen of Egypt's affair with Roman ...</td>\n",
       "      <td>Charles L. Gaskill|</td>\n",
       "      <td>Victorien Sardou|Charles L. Gaskill|</td>\n",
       "      <td>Helen Gardner|Pearl Sindelar|Miss Fielding</td>\n",
       "      <td>Drama|History</td>\n",
       "    </tr>\n",
       "    <tr>\n",
       "      <th>3</th>\n",
       "      <td>https://www.imdb.com/title/tt0002130/?ref_=sr_t_1</td>\n",
       "      <td>L'Inferno</td>\n",
       "      <td>https://m.media-amazon.com/images/M/MV5BMzY0NT...</td>\n",
       "      <td>1911.0</td>\n",
       "      <td>71.0</td>\n",
       "      <td>7.0</td>\n",
       "      <td>3500.0</td>\n",
       "      <td>Loosely adapted from Dante's Divine Comedy and...</td>\n",
       "      <td>Francesco Bertolini|Adolfo Padovan|Giuseppe de...</td>\n",
       "      <td>Dante Alighieri|</td>\n",
       "      <td>Salvatore Papa|Arturo Pirovano|Giuseppe de Lig...</td>\n",
       "      <td>Adventure|Drama|Fantasy</td>\n",
       "    </tr>\n",
       "    <tr>\n",
       "      <th>4</th>\n",
       "      <td>https://www.imdb.com/title/tt0002186/?ref_=sr_t_6</td>\n",
       "      <td>Den flyvende cirkus</td>\n",
       "      <td>https://m.media-amazon.com/images/M/MV5BZTljZD...</td>\n",
       "      <td>1912.0</td>\n",
       "      <td>46.0</td>\n",
       "      <td>6.4</td>\n",
       "      <td>145.0</td>\n",
       "      <td>The Flying Circus was the largest traveling ar...</td>\n",
       "      <td>Alfred Lind|</td>\n",
       "      <td>Carl Otto Dumreicher|Alfred Lind|</td>\n",
       "      <td>Rasmus Ottesen|Emilie Otterdahl|Lili Beck</td>\n",
       "      <td>Drama</td>\n",
       "    </tr>\n",
       "  </tbody>\n",
       "</table>\n",
       "</div>"
      ],
      "text/plain": [
       "                                           Movie URL                Title  \\\n",
       "0  https://www.imdb.com/title/tt0001892/?ref_=sr_t_3       Den sorte drøm   \n",
       "1  https://www.imdb.com/title/tt0001964/?ref_=sr_t_6       Die Verräterin   \n",
       "2  https://www.imdb.com/title/tt0002101/?ref_=sr_t_1            Cleopatra   \n",
       "3  https://www.imdb.com/title/tt0002130/?ref_=sr_t_1            L'Inferno   \n",
       "4  https://www.imdb.com/title/tt0002186/?ref_=sr_t_6  Den flyvende cirkus   \n",
       "\n",
       "                                              Poster  Release Year  \\\n",
       "0  https://m.media-amazon.com/images/M/MV5BZjg0Yj...        1911.0   \n",
       "1  https://m.media-amazon.com/images/M/MV5BNjI2Nj...        1911.0   \n",
       "2  https://m.media-amazon.com/images/M/MV5BZTcyMG...        1912.0   \n",
       "3  https://m.media-amazon.com/images/M/MV5BMzY0NT...        1911.0   \n",
       "4  https://m.media-amazon.com/images/M/MV5BZTljZD...        1912.0   \n",
       "\n",
       "   Length in Min  IMDB Rating  Rating Count  \\\n",
       "0           53.0          5.8         265.0   \n",
       "1           48.0          5.9         100.0   \n",
       "2          100.0          5.1         620.0   \n",
       "3           71.0          7.0        3500.0   \n",
       "4           46.0          6.4         145.0   \n",
       "\n",
       "                                                Plot  \\\n",
       "0  Two men of high rank are both wooing the beaut...   \n",
       "1  A woman betrays the regiment location in which...   \n",
       "2  The fabled queen of Egypt's affair with Roman ...   \n",
       "3  Loosely adapted from Dante's Divine Comedy and...   \n",
       "4  The Flying Circus was the largest traveling ar...   \n",
       "\n",
       "                                           Directors  \\\n",
       "0                                         Urban Gad|   \n",
       "1                                          Urban Gad   \n",
       "2                                Charles L. Gaskill|   \n",
       "3  Francesco Bertolini|Adolfo Padovan|Giuseppe de...   \n",
       "4                                       Alfred Lind|   \n",
       "\n",
       "                                 Writers  \\\n",
       "0  Urban Gad|Gebhard Schätzler-Perasini|   \n",
       "1                          Erich Zeiske|   \n",
       "2   Victorien Sardou|Charles L. Gaskill|   \n",
       "3                       Dante Alighieri|   \n",
       "4      Carl Otto Dumreicher|Alfred Lind|   \n",
       "\n",
       "                                               Stars                   Genres  \n",
       "0  Asta Nielsen|Valdemar Psilander|Gunnar Helseng...                    Drama  \n",
       "1               Asta Nielsen|Max Obal|Robert Valberg                    Drama  \n",
       "2         Helen Gardner|Pearl Sindelar|Miss Fielding            Drama|History  \n",
       "3  Salvatore Papa|Arturo Pirovano|Giuseppe de Lig...  Adventure|Drama|Fantasy  \n",
       "4          Rasmus Ottesen|Emilie Otterdahl|Lili Beck                    Drama  "
      ]
     },
     "execution_count": 196,
     "metadata": {},
     "output_type": "execute_result"
    }
   ],
   "source": [
    "df.head()"
   ]
  },
  {
   "cell_type": "markdown",
   "metadata": {},
   "source": [
    "¿Qué se va a analizar?\n",
    "\n",
    "* Cantidad de generos\n",
    "\n",
    "* Cantidad de directores\n",
    "\n",
    "* Generos mas comunes\n",
    "\n",
    "* Directores mas comunes\n",
    "\n",
    "* Escritores mas comunes\n",
    "\n",
    "* Clasificacion promedio de Escritores mejores calificados\n",
    "\n",
    "* Clasificacion promedio de Directores mejores calificados\n",
    "\n",
    "Visualizaciones\n",
    "\n",
    "* Cantidad de peliculas estrenadas en cada año\n",
    "\n"
   ]
  },
  {
   "cell_type": "markdown",
   "metadata": {},
   "source": [
    "## Informacion general"
   ]
  },
  {
   "cell_type": "code",
   "execution_count": 19,
   "metadata": {},
   "outputs": [
    {
     "data": {
      "text/plain": [
       "Index(['Movie URL', 'Title', 'Poster', 'Release Year', 'Length in Min',\n",
       "       'IMDB Rating', 'Rating Count', 'Plot', 'Directors', 'Writers', 'Stars',\n",
       "       'Genres'],\n",
       "      dtype='object')"
      ]
     },
     "execution_count": 19,
     "metadata": {},
     "output_type": "execute_result"
    }
   ],
   "source": [
    "asd = df.columns\n",
    "asd"
   ]
  },
  {
   "cell_type": "code",
   "execution_count": 9,
   "metadata": {},
   "outputs": [
    {
     "name": "stdout",
     "output_type": "stream",
     "text": [
      "<class 'pandas.core.frame.DataFrame'>\n",
      "RangeIndex: 126691 entries, 0 to 126690\n",
      "Data columns (total 12 columns):\n",
      " #   Column         Non-Null Count   Dtype  \n",
      "---  ------         --------------   -----  \n",
      " 0   Movie URL      126691 non-null  object \n",
      " 1   Title          126626 non-null  object \n",
      " 2   Poster         126384 non-null  object \n",
      " 3   Release Year   126618 non-null  float64\n",
      " 4   Length in Min  124733 non-null  float64\n",
      " 5   IMDB Rating    126624 non-null  float64\n",
      " 6   Rating Count   126624 non-null  float64\n",
      " 7   Plot           126626 non-null  object \n",
      " 8   Directors      125842 non-null  object \n",
      " 9   Writers        119634 non-null  object \n",
      " 10  Stars          125339 non-null  object \n",
      " 11  Genres         126515 non-null  object \n",
      "dtypes: float64(4), object(8)\n",
      "memory usage: 11.6+ MB\n"
     ]
    }
   ],
   "source": [
    "df.info()"
   ]
  },
  {
   "cell_type": "markdown",
   "metadata": {},
   "source": [
    "### Cantidad de generos"
   ]
  },
  {
   "cell_type": "code",
   "execution_count": 10,
   "metadata": {},
   "outputs": [
    {
     "data": {
      "text/plain": [
       "Genres\n",
       "Drama                          16878\n",
       "Comedy                          9608\n",
       "Documentary                     5881\n",
       "Comedy|Drama                    5430\n",
       "Drama|Romance                   4750\n",
       "                               ...  \n",
       "Family|Fantasy|Comedy              1\n",
       "Action|Thriller|Sci-Fi             1\n",
       "Horror|Crime|Thriller              1\n",
       "Drama|Action|Musical               1\n",
       "Documentary|History|Musical        1\n",
       "Name: count, Length: 1407, dtype: int64"
      ]
     },
     "execution_count": 10,
     "metadata": {},
     "output_type": "execute_result"
    }
   ],
   "source": [
    "df['Genres'].value_counts()"
   ]
  },
  {
   "cell_type": "markdown",
   "metadata": {},
   "source": [
    "### Cantidad de Directores"
   ]
  },
  {
   "cell_type": "code",
   "execution_count": 89,
   "metadata": {},
   "outputs": [
    {
     "data": {
      "text/plain": [
       "Directors\n",
       "Michael Curtiz|                85\n",
       "William Beaudine|              74\n",
       "Lloyd Bacon|                   73\n",
       "Joseph Kane|                   70\n",
       "Lesley Selander|               69\n",
       "                               ..\n",
       "György Kovásznai                1\n",
       "Dominique Goult                 1\n",
       "Stanley Donen|John Barry|       1\n",
       "Taku Sugiyama|Osamu Tezuka|     1\n",
       "Richard Zelniker|               1\n",
       "Name: count, Length: 64160, dtype: int64"
      ]
     },
     "execution_count": 89,
     "metadata": {},
     "output_type": "execute_result"
    }
   ],
   "source": [
    "cantidades_directores = df['Directors'].value_counts()\n",
    "cantidades_directores"
   ]
  },
  {
   "cell_type": "markdown",
   "metadata": {},
   "source": [
    "## Analisis"
   ]
  },
  {
   "cell_type": "markdown",
   "metadata": {},
   "source": [
    "### Generos mas comunes"
   ]
  },
  {
   "cell_type": "code",
   "execution_count": 193,
   "metadata": {},
   "outputs": [
    {
     "data": {
      "text/html": [
       "<div>\n",
       "<style scoped>\n",
       "    .dataframe tbody tr th:only-of-type {\n",
       "        vertical-align: middle;\n",
       "    }\n",
       "\n",
       "    .dataframe tbody tr th {\n",
       "        vertical-align: top;\n",
       "    }\n",
       "\n",
       "    .dataframe thead th {\n",
       "        text-align: right;\n",
       "    }\n",
       "</style>\n",
       "<table border=\"1\" class=\"dataframe\">\n",
       "  <thead>\n",
       "    <tr style=\"text-align: right;\">\n",
       "      <th></th>\n",
       "      <th>Genre</th>\n",
       "      <th>Count</th>\n",
       "    </tr>\n",
       "  </thead>\n",
       "  <tbody>\n",
       "    <tr>\n",
       "      <th>0</th>\n",
       "      <td>Drama</td>\n",
       "      <td>16878</td>\n",
       "    </tr>\n",
       "    <tr>\n",
       "      <th>1</th>\n",
       "      <td>Comedy</td>\n",
       "      <td>9608</td>\n",
       "    </tr>\n",
       "    <tr>\n",
       "      <th>2</th>\n",
       "      <td>Documentary</td>\n",
       "      <td>5881</td>\n",
       "    </tr>\n",
       "    <tr>\n",
       "      <th>3</th>\n",
       "      <td>Comedy|Drama</td>\n",
       "      <td>5430</td>\n",
       "    </tr>\n",
       "    <tr>\n",
       "      <th>4</th>\n",
       "      <td>Drama|Romance</td>\n",
       "      <td>4750</td>\n",
       "    </tr>\n",
       "    <tr>\n",
       "      <th>5</th>\n",
       "      <td>Comedy|Romance</td>\n",
       "      <td>3346</td>\n",
       "    </tr>\n",
       "    <tr>\n",
       "      <th>6</th>\n",
       "      <td>Comedy|Drama|Romance</td>\n",
       "      <td>3139</td>\n",
       "    </tr>\n",
       "    <tr>\n",
       "      <th>7</th>\n",
       "      <td>Horror</td>\n",
       "      <td>3122</td>\n",
       "    </tr>\n",
       "    <tr>\n",
       "      <th>8</th>\n",
       "      <td>Action|Crime|Drama</td>\n",
       "      <td>1926</td>\n",
       "    </tr>\n",
       "    <tr>\n",
       "      <th>9</th>\n",
       "      <td>Crime|Drama</td>\n",
       "      <td>1808</td>\n",
       "    </tr>\n",
       "  </tbody>\n",
       "</table>\n",
       "</div>"
      ],
      "text/plain": [
       "                  Genre  Count\n",
       "0                 Drama  16878\n",
       "1                Comedy   9608\n",
       "2           Documentary   5881\n",
       "3          Comedy|Drama   5430\n",
       "4         Drama|Romance   4750\n",
       "5        Comedy|Romance   3346\n",
       "6  Comedy|Drama|Romance   3139\n",
       "7                Horror   3122\n",
       "8    Action|Crime|Drama   1926\n",
       "9           Crime|Drama   1808"
      ]
     },
     "execution_count": 193,
     "metadata": {},
     "output_type": "execute_result"
    }
   ],
   "source": [
    "from collections import Counter\n",
    "\n",
    "generos = df['Genres'].str.split(', ').explode()\n",
    "contar_generos = Counter(generos)\n",
    "top_generos = contar_generos.most_common(10)\n",
    "\n",
    "df_top_generos = pd.DataFrame(top_generos, columns=['Genre', 'Count'])\n",
    "\n",
    "df_top_generos"
   ]
  },
  {
   "cell_type": "markdown",
   "metadata": {},
   "source": [
    "### Directores mas comunes"
   ]
  },
  {
   "cell_type": "code",
   "execution_count": 191,
   "metadata": {},
   "outputs": [
    {
     "data": {
      "text/html": [
       "<div>\n",
       "<style scoped>\n",
       "    .dataframe tbody tr th:only-of-type {\n",
       "        vertical-align: middle;\n",
       "    }\n",
       "\n",
       "    .dataframe tbody tr th {\n",
       "        vertical-align: top;\n",
       "    }\n",
       "\n",
       "    .dataframe thead th {\n",
       "        text-align: right;\n",
       "    }\n",
       "</style>\n",
       "<table border=\"1\" class=\"dataframe\">\n",
       "  <thead>\n",
       "    <tr style=\"text-align: right;\">\n",
       "      <th></th>\n",
       "      <th>Director</th>\n",
       "      <th>Count</th>\n",
       "    </tr>\n",
       "  </thead>\n",
       "  <tbody>\n",
       "    <tr>\n",
       "      <th>0</th>\n",
       "      <td>NaN</td>\n",
       "      <td>849</td>\n",
       "    </tr>\n",
       "    <tr>\n",
       "      <th>1</th>\n",
       "      <td>Michael Curtiz|</td>\n",
       "      <td>85</td>\n",
       "    </tr>\n",
       "    <tr>\n",
       "      <th>2</th>\n",
       "      <td>William Beaudine|</td>\n",
       "      <td>74</td>\n",
       "    </tr>\n",
       "    <tr>\n",
       "      <th>3</th>\n",
       "      <td>Lloyd Bacon|</td>\n",
       "      <td>73</td>\n",
       "    </tr>\n",
       "    <tr>\n",
       "      <th>4</th>\n",
       "      <td>Joseph Kane|</td>\n",
       "      <td>70</td>\n",
       "    </tr>\n",
       "    <tr>\n",
       "      <th>5</th>\n",
       "      <td>John Ford|</td>\n",
       "      <td>69</td>\n",
       "    </tr>\n",
       "    <tr>\n",
       "      <th>6</th>\n",
       "      <td>Lesley Selander|</td>\n",
       "      <td>69</td>\n",
       "    </tr>\n",
       "    <tr>\n",
       "      <th>7</th>\n",
       "      <td>Jesús Franco|</td>\n",
       "      <td>68</td>\n",
       "    </tr>\n",
       "    <tr>\n",
       "      <th>8</th>\n",
       "      <td>Richard Thorpe|</td>\n",
       "      <td>63</td>\n",
       "    </tr>\n",
       "    <tr>\n",
       "      <th>9</th>\n",
       "      <td>Raoul Walsh|</td>\n",
       "      <td>62</td>\n",
       "    </tr>\n",
       "  </tbody>\n",
       "</table>\n",
       "</div>"
      ],
      "text/plain": [
       "            Director  Count\n",
       "0                NaN    849\n",
       "1    Michael Curtiz|     85\n",
       "2  William Beaudine|     74\n",
       "3       Lloyd Bacon|     73\n",
       "4       Joseph Kane|     70\n",
       "5         John Ford|     69\n",
       "6   Lesley Selander|     69\n",
       "7      Jesús Franco|     68\n",
       "8    Richard Thorpe|     63\n",
       "9       Raoul Walsh|     62"
      ]
     },
     "execution_count": 191,
     "metadata": {},
     "output_type": "execute_result"
    }
   ],
   "source": [
    "directores = df['Directors'].str.split(', ').explode()\n",
    "contar_directores = Counter(directores)\n",
    "top_directores = contar_directores.most_common(10)\n",
    "df_top_directores = pd.DataFrame(top_directores, columns=['Director', 'Count'])\n",
    "\n",
    "df_top_directores"
   ]
  },
  {
   "cell_type": "markdown",
   "metadata": {},
   "source": [
    "### Escritores mas comunes"
   ]
  },
  {
   "cell_type": "code",
   "execution_count": 190,
   "metadata": {},
   "outputs": [
    {
     "data": {
      "text/html": [
       "<div>\n",
       "<style scoped>\n",
       "    .dataframe tbody tr th:only-of-type {\n",
       "        vertical-align: middle;\n",
       "    }\n",
       "\n",
       "    .dataframe tbody tr th {\n",
       "        vertical-align: top;\n",
       "    }\n",
       "\n",
       "    .dataframe thead th {\n",
       "        text-align: right;\n",
       "    }\n",
       "</style>\n",
       "<table border=\"1\" class=\"dataframe\">\n",
       "  <thead>\n",
       "    <tr style=\"text-align: right;\">\n",
       "      <th></th>\n",
       "      <th>Writer</th>\n",
       "      <th>Count</th>\n",
       "    </tr>\n",
       "  </thead>\n",
       "  <tbody>\n",
       "    <tr>\n",
       "      <th>0</th>\n",
       "      <td>NaN</td>\n",
       "      <td>7057</td>\n",
       "    </tr>\n",
       "    <tr>\n",
       "      <th>1</th>\n",
       "      <td>Jing Wong|</td>\n",
       "      <td>106</td>\n",
       "    </tr>\n",
       "    <tr>\n",
       "      <th>2</th>\n",
       "      <td>Kuang Ni|</td>\n",
       "      <td>55</td>\n",
       "    </tr>\n",
       "    <tr>\n",
       "      <th>3</th>\n",
       "      <td>Erdogan Tünas|</td>\n",
       "      <td>52</td>\n",
       "    </tr>\n",
       "    <tr>\n",
       "      <th>4</th>\n",
       "      <td>Safa Önal|</td>\n",
       "      <td>46</td>\n",
       "    </tr>\n",
       "    <tr>\n",
       "      <th>5</th>\n",
       "      <td>Woody Allen|</td>\n",
       "      <td>43</td>\n",
       "    </tr>\n",
       "    <tr>\n",
       "      <th>6</th>\n",
       "      <td>Giannis Dalianidis|</td>\n",
       "      <td>36</td>\n",
       "    </tr>\n",
       "    <tr>\n",
       "      <th>7</th>\n",
       "      <td>Ingmar Bergman|</td>\n",
       "      <td>32</td>\n",
       "    </tr>\n",
       "    <tr>\n",
       "      <th>8</th>\n",
       "      <td>Carlo Vanzina|Enrico Vanzina|</td>\n",
       "      <td>31</td>\n",
       "    </tr>\n",
       "    <tr>\n",
       "      <th>9</th>\n",
       "      <td>Ranjith|</td>\n",
       "      <td>30</td>\n",
       "    </tr>\n",
       "  </tbody>\n",
       "</table>\n",
       "</div>"
      ],
      "text/plain": [
       "                          Writer  Count\n",
       "0                            NaN   7057\n",
       "1                     Jing Wong|    106\n",
       "2                      Kuang Ni|     55\n",
       "3                 Erdogan Tünas|     52\n",
       "4                     Safa Önal|     46\n",
       "5                   Woody Allen|     43\n",
       "6            Giannis Dalianidis|     36\n",
       "7                Ingmar Bergman|     32\n",
       "8  Carlo Vanzina|Enrico Vanzina|     31\n",
       "9                       Ranjith|     30"
      ]
     },
     "execution_count": 190,
     "metadata": {},
     "output_type": "execute_result"
    }
   ],
   "source": [
    "escritores = df['Writers'].str.split(', ').explode()\n",
    "contar_escritores = Counter(escritores)\n",
    "top_escritores = contar_escritores.most_common(10)\n",
    "df_top_escritores = pd.DataFrame(top_escritores, columns=['Writer', 'Count'])\n",
    "\n",
    "df_top_escritores"
   ]
  },
  {
   "cell_type": "markdown",
   "metadata": {},
   "source": [
    "### Escritores mejor calificados"
   ]
  },
  {
   "cell_type": "code",
   "execution_count": 188,
   "metadata": {},
   "outputs": [
    {
     "data": {
      "text/html": [
       "<div>\n",
       "<style scoped>\n",
       "    .dataframe tbody tr th:only-of-type {\n",
       "        vertical-align: middle;\n",
       "    }\n",
       "\n",
       "    .dataframe tbody tr th {\n",
       "        vertical-align: top;\n",
       "    }\n",
       "\n",
       "    .dataframe thead th {\n",
       "        text-align: right;\n",
       "    }\n",
       "</style>\n",
       "<table border=\"1\" class=\"dataframe\">\n",
       "  <thead>\n",
       "    <tr style=\"text-align: right;\">\n",
       "      <th></th>\n",
       "      <th>IMDB Rating</th>\n",
       "    </tr>\n",
       "    <tr>\n",
       "      <th>Writers</th>\n",
       "      <th></th>\n",
       "    </tr>\n",
       "  </thead>\n",
       "  <tbody>\n",
       "    <tr>\n",
       "      <th>Janet J|</th>\n",
       "      <td>9.9</td>\n",
       "    </tr>\n",
       "    <tr>\n",
       "      <th>Bosser|</th>\n",
       "      <td>9.8</td>\n",
       "    </tr>\n",
       "    <tr>\n",
       "      <th>Mahesh B Patil|</th>\n",
       "      <td>9.8</td>\n",
       "    </tr>\n",
       "    <tr>\n",
       "      <th>Roshin A Rahman|</th>\n",
       "      <td>9.8</td>\n",
       "    </tr>\n",
       "    <tr>\n",
       "      <th>Sanketh Ambali|Pradeep GM|Nagesh Kundapura|</th>\n",
       "      <td>9.7</td>\n",
       "    </tr>\n",
       "    <tr>\n",
       "      <th>Shashikanth Gatti|Bhat Pavan|</th>\n",
       "      <td>9.7</td>\n",
       "    </tr>\n",
       "    <tr>\n",
       "      <th>Siby Padiyara|</th>\n",
       "      <td>9.7</td>\n",
       "    </tr>\n",
       "    <tr>\n",
       "      <th>Rami Kodeih|</th>\n",
       "      <td>9.6</td>\n",
       "    </tr>\n",
       "    <tr>\n",
       "      <th>Kumbalathu Padmakumar|</th>\n",
       "      <td>9.6</td>\n",
       "    </tr>\n",
       "    <tr>\n",
       "      <th>Andrew Heller|</th>\n",
       "      <td>9.6</td>\n",
       "    </tr>\n",
       "  </tbody>\n",
       "</table>\n",
       "</div>"
      ],
      "text/plain": [
       "                                             IMDB Rating\n",
       "Writers                                                 \n",
       "Janet J|                                             9.9\n",
       "Bosser|                                              9.8\n",
       "Mahesh B Patil|                                      9.8\n",
       "Roshin A Rahman|                                     9.8\n",
       "Sanketh Ambali|Pradeep GM|Nagesh Kundapura|          9.7\n",
       "Shashikanth Gatti|Bhat Pavan|                        9.7\n",
       "Siby Padiyara|                                       9.7\n",
       "Rami Kodeih|                                         9.6\n",
       "Kumbalathu Padmakumar|                               9.6\n",
       "Andrew Heller|                                       9.6"
      ]
     },
     "execution_count": 188,
     "metadata": {},
     "output_type": "execute_result"
    }
   ],
   "source": [
    "calificaciones_escritores = df.groupby('Writers')['IMDB Rating'].mean().sort_values(ascending=False)\n",
    "df_calificaciones_escritores = pd.DataFrame(calificaciones_escritores)\n",
    "top_escritores_calificados = df_calificaciones_escritores.head(10)\n",
    "top_escritores_calificados"
   ]
  },
  {
   "cell_type": "markdown",
   "metadata": {},
   "source": [
    "### Directores mejores calificados"
   ]
  },
  {
   "cell_type": "code",
   "execution_count": 189,
   "metadata": {},
   "outputs": [
    {
     "data": {
      "text/html": [
       "<div>\n",
       "<style scoped>\n",
       "    .dataframe tbody tr th:only-of-type {\n",
       "        vertical-align: middle;\n",
       "    }\n",
       "\n",
       "    .dataframe tbody tr th {\n",
       "        vertical-align: top;\n",
       "    }\n",
       "\n",
       "    .dataframe thead th {\n",
       "        text-align: right;\n",
       "    }\n",
       "</style>\n",
       "<table border=\"1\" class=\"dataframe\">\n",
       "  <thead>\n",
       "    <tr style=\"text-align: right;\">\n",
       "      <th></th>\n",
       "      <th>IMDB Rating</th>\n",
       "    </tr>\n",
       "    <tr>\n",
       "      <th>Directors</th>\n",
       "      <th></th>\n",
       "    </tr>\n",
       "  </thead>\n",
       "  <tbody>\n",
       "    <tr>\n",
       "      <th>Janet J</th>\n",
       "      <td>9.9</td>\n",
       "    </tr>\n",
       "    <tr>\n",
       "      <th>Rahul R Krishna|</th>\n",
       "      <td>9.9</td>\n",
       "    </tr>\n",
       "    <tr>\n",
       "      <th>Bosser</th>\n",
       "      <td>9.8</td>\n",
       "    </tr>\n",
       "    <tr>\n",
       "      <th>Praveen Sutar</th>\n",
       "      <td>9.8</td>\n",
       "    </tr>\n",
       "    <tr>\n",
       "      <th>Roshin A Rahman</th>\n",
       "      <td>9.8</td>\n",
       "    </tr>\n",
       "    <tr>\n",
       "      <th>Patrick Chu|</th>\n",
       "      <td>9.7</td>\n",
       "    </tr>\n",
       "    <tr>\n",
       "      <th>Shashikanth Gatti|</th>\n",
       "      <td>9.7</td>\n",
       "    </tr>\n",
       "    <tr>\n",
       "      <th>Siby Padiyara</th>\n",
       "      <td>9.7</td>\n",
       "    </tr>\n",
       "    <tr>\n",
       "      <th>Neeraj Kumar|Deepika Narayan Bhardwaj</th>\n",
       "      <td>9.7</td>\n",
       "    </tr>\n",
       "    <tr>\n",
       "      <th>Christian Wehrle|</th>\n",
       "      <td>9.7</td>\n",
       "    </tr>\n",
       "  </tbody>\n",
       "</table>\n",
       "</div>"
      ],
      "text/plain": [
       "                                       IMDB Rating\n",
       "Directors                                         \n",
       "Janet J                                        9.9\n",
       "Rahul R Krishna|                               9.9\n",
       "Bosser                                         9.8\n",
       "Praveen Sutar                                  9.8\n",
       "Roshin A Rahman                                9.8\n",
       "Patrick Chu|                                   9.7\n",
       "Shashikanth Gatti|                             9.7\n",
       "Siby Padiyara                                  9.7\n",
       "Neeraj Kumar|Deepika Narayan Bhardwaj          9.7\n",
       "Christian Wehrle|                              9.7"
      ]
     },
     "execution_count": 189,
     "metadata": {},
     "output_type": "execute_result"
    }
   ],
   "source": [
    "calificaciones_directores = df.groupby('Directors')['IMDB Rating'].mean().sort_values(ascending=False)\n",
    "df_calificaciones_directores = pd.DataFrame(calificaciones_directores)\n",
    "top_directores_calificados = df_calificaciones_directores.head(10)\n",
    "top_directores_calificados"
   ]
  },
  {
   "cell_type": "markdown",
   "metadata": {},
   "source": [
    "## Visualizaciones"
   ]
  },
  {
   "cell_type": "markdown",
   "metadata": {},
   "source": [
    "### Cantidad de peliculas estrenadas por año"
   ]
  },
  {
   "cell_type": "code",
   "execution_count": 195,
   "metadata": {},
   "outputs": [
    {
     "data": {
      "image/png": "[encoded data removed]",
      "text/plain": [
       "<Figure size 640x480 with 1 Axes>"
      ]
     },
     "metadata": {},
     "output_type": "display_data"
    }
   ],
   "source": [
    "plt.hist(df[\"Release Year\"])\n",
    "plt.xlabel(\"Año de Lanzamiento\")\n",
    "plt.ylabel(\"Frecuencia\")\n",
    "plt.title(\"Cantidad de películas por año de lanzamiento\")\n",
    "plt.show()"
   ]
  },
  {
   "cell_type": "code",
   "execution_count": null,
   "metadata": {},
   "outputs": [
    {
     "data": {
      "image/png": "[encoded data removed]",
      "text/plain": [
       "<Figure size 1000x600 with 1 Axes>"
      ]
     },
     "metadata": {},
     "output_type": "display_data"
    }
   ],
   "source": [
    "import matplotlib.pyplot as plt\n",
    "\n",
    "# Crear el gráfico de barras\n",
    "plt.figure(figsize=(10, 6))\n",
    "plt.barh(top_escritores_calificados.index, top_escritores_calificados['IMDB Rating'])\n",
    "plt.xlabel('Calificación Promedio')\n",
    "plt.ylabel('Escritores')\n",
    "plt.title('Top 10 Escritores Mejor Calificados')\n",
    "plt.gca().invert_yaxis()  # Invertir el eje y para que el escritor con la calificación más alta esté en la parte superior\n",
    "plt.show()\n"
   ]
  }
 ],
 "metadata": {
  "kernelspec": {
   "display_name": "Python 3",
   "language": "python",
   "name": "python3"
  },
  "language_info": {
   "codemirror_mode": {
    "name": "ipython",
    "version": 3
   },
   "file_extension": ".py",
   "mimetype": "text/x-python",
   "name": "python",
   "nbconvert_exporter": "python",
   "pygments_lexer": "ipython3",
   "version": "3.8.0"
  }
 },
 "nbformat": 4,
 "nbformat_minor": 2
}
