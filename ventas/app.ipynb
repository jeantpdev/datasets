{
 "cells": [
  {
   "cell_type": "code",
   "execution_count": 73,
   "metadata": {},
   "outputs": [],
   "source": [
    "import pandas as pd\n",
    "import matplotlib.pyplot as plt\n",
    "from collections import Counter"
   ]
  },
  {
   "cell_type": "code",
   "execution_count": 9,
   "metadata": {},
   "outputs": [],
   "source": [
    "df = pd.read_excel('./ventas.xlsx', sheet_name='ventas')"
   ]
  },
  {
   "cell_type": "code",
   "execution_count": 10,
   "metadata": {},
   "outputs": [
    {
     "data": {
      "text/html": [
       "<div>\n",
       "<style scoped>\n",
       "    .dataframe tbody tr th:only-of-type {\n",
       "        vertical-align: middle;\n",
       "    }\n",
       "\n",
       "    .dataframe tbody tr th {\n",
       "        vertical-align: top;\n",
       "    }\n",
       "\n",
       "    .dataframe thead th {\n",
       "        text-align: right;\n",
       "    }\n",
       "</style>\n",
       "<table border=\"1\" class=\"dataframe\">\n",
       "  <thead>\n",
       "    <tr style=\"text-align: right;\">\n",
       "      <th></th>\n",
       "      <th>id_venta</th>\n",
       "      <th>nombre_cliente</th>\n",
       "      <th>dni</th>\n",
       "      <th>telefono</th>\n",
       "      <th>correo</th>\n",
       "      <th>agente</th>\n",
       "      <th>llamada_realizada</th>\n",
       "      <th>calidad_enviada</th>\n",
       "      <th>verificacion_calidad</th>\n",
       "      <th>observaciones_calidad</th>\n",
       "      <th>fecha_ingreso</th>\n",
       "      <th>observaciones_venta</th>\n",
       "      <th>estado</th>\n",
       "    </tr>\n",
       "  </thead>\n",
       "  <tbody>\n",
       "    <tr>\n",
       "      <th>0</th>\n",
       "      <td>1</td>\n",
       "      <td>Jesus PÃ©rez</td>\n",
       "      <td>N4184</td>\n",
       "      <td>4973</td>\n",
       "      <td>oCmfqGDJ6h@yahoo.com</td>\n",
       "      <td>Rossane</td>\n",
       "      <td>False</td>\n",
       "      <td>False</td>\n",
       "      <td>False</td>\n",
       "      <td>por revisar</td>\n",
       "      <td>2024-05-18</td>\n",
       "      <td>44332211</td>\n",
       "      <td>temporal</td>\n",
       "    </tr>\n",
       "    <tr>\n",
       "      <th>1</th>\n",
       "      <td>2</td>\n",
       "      <td>Jesus Delgado</td>\n",
       "      <td>X5338</td>\n",
       "      <td>7576</td>\n",
       "      <td>7OJ33cJ@outlook.com</td>\n",
       "      <td>Rossane</td>\n",
       "      <td>False</td>\n",
       "      <td>False</td>\n",
       "      <td>False</td>\n",
       "      <td>por revisar</td>\n",
       "      <td>2024-03-24</td>\n",
       "      <td>44332211</td>\n",
       "      <td>cancelada</td>\n",
       "    </tr>\n",
       "    <tr>\n",
       "      <th>2</th>\n",
       "      <td>3</td>\n",
       "      <td>Luis Covas</td>\n",
       "      <td>X8972</td>\n",
       "      <td>3427</td>\n",
       "      <td>iTwZVevf@hotmail.com</td>\n",
       "      <td>An Yujin</td>\n",
       "      <td>False</td>\n",
       "      <td>False</td>\n",
       "      <td>False</td>\n",
       "      <td>por revisar</td>\n",
       "      <td>2024-03-08</td>\n",
       "      <td>1234569</td>\n",
       "      <td>devuelta</td>\n",
       "    </tr>\n",
       "    <tr>\n",
       "      <th>3</th>\n",
       "      <td>4</td>\n",
       "      <td>Will JimÃ©nez</td>\n",
       "      <td>N6995</td>\n",
       "      <td>6117</td>\n",
       "      <td>ylRst@yahoo.com</td>\n",
       "      <td>An Yujin</td>\n",
       "      <td>False</td>\n",
       "      <td>False</td>\n",
       "      <td>False</td>\n",
       "      <td>por revisar</td>\n",
       "      <td>2024-04-28</td>\n",
       "      <td>12233344</td>\n",
       "      <td>devuelta</td>\n",
       "    </tr>\n",
       "    <tr>\n",
       "      <th>4</th>\n",
       "      <td>5</td>\n",
       "      <td>Carlos Delgado</td>\n",
       "      <td>B7139</td>\n",
       "      <td>9615</td>\n",
       "      <td>ZgJdR3@outlook.com</td>\n",
       "      <td>ZacksPerez</td>\n",
       "      <td>False</td>\n",
       "      <td>False</td>\n",
       "      <td>False</td>\n",
       "      <td>por revisar</td>\n",
       "      <td>2024-02-10</td>\n",
       "      <td>12233344</td>\n",
       "      <td>cancelada</td>\n",
       "    </tr>\n",
       "    <tr>\n",
       "      <th>...</th>\n",
       "      <td>...</td>\n",
       "      <td>...</td>\n",
       "      <td>...</td>\n",
       "      <td>...</td>\n",
       "      <td>...</td>\n",
       "      <td>...</td>\n",
       "      <td>...</td>\n",
       "      <td>...</td>\n",
       "      <td>...</td>\n",
       "      <td>...</td>\n",
       "      <td>...</td>\n",
       "      <td>...</td>\n",
       "      <td>...</td>\n",
       "    </tr>\n",
       "    <tr>\n",
       "      <th>491</th>\n",
       "      <td>492</td>\n",
       "      <td>Juan PÃ©rez</td>\n",
       "      <td>B7942</td>\n",
       "      <td>8614</td>\n",
       "      <td>B72P3CASbQ@hotmail.com</td>\n",
       "      <td>Zacks</td>\n",
       "      <td>False</td>\n",
       "      <td>False</td>\n",
       "      <td>False</td>\n",
       "      <td>por revisar</td>\n",
       "      <td>2024-02-18</td>\n",
       "      <td>1234569</td>\n",
       "      <td>temporal</td>\n",
       "    </tr>\n",
       "    <tr>\n",
       "      <th>492</th>\n",
       "      <td>493</td>\n",
       "      <td>Renata JimÃ©nez</td>\n",
       "      <td>B7266</td>\n",
       "      <td>8775</td>\n",
       "      <td>6968El1Vsi@outlook.com</td>\n",
       "      <td>Rossane</td>\n",
       "      <td>False</td>\n",
       "      <td>False</td>\n",
       "      <td>False</td>\n",
       "      <td>por revisar</td>\n",
       "      <td>2024-05-16</td>\n",
       "      <td>12233344</td>\n",
       "      <td>cancelada</td>\n",
       "    </tr>\n",
       "    <tr>\n",
       "      <th>493</th>\n",
       "      <td>494</td>\n",
       "      <td>Marlon Coronell</td>\n",
       "      <td>X6956</td>\n",
       "      <td>7539</td>\n",
       "      <td>V0ikNSRaPY@yahoo.com</td>\n",
       "      <td>An Yujin</td>\n",
       "      <td>False</td>\n",
       "      <td>False</td>\n",
       "      <td>False</td>\n",
       "      <td>por revisar</td>\n",
       "      <td>2024-05-16</td>\n",
       "      <td>12233344</td>\n",
       "      <td>activa</td>\n",
       "    </tr>\n",
       "    <tr>\n",
       "      <th>494</th>\n",
       "      <td>495</td>\n",
       "      <td>Carlos Gomez</td>\n",
       "      <td>X6878</td>\n",
       "      <td>6347</td>\n",
       "      <td>w5QrswVo99@aol.com</td>\n",
       "      <td>Jean</td>\n",
       "      <td>False</td>\n",
       "      <td>False</td>\n",
       "      <td>False</td>\n",
       "      <td>por revisar</td>\n",
       "      <td>2024-03-28</td>\n",
       "      <td>12233344</td>\n",
       "      <td>activa</td>\n",
       "    </tr>\n",
       "    <tr>\n",
       "      <th>495</th>\n",
       "      <td>496</td>\n",
       "      <td>Ana Coronell</td>\n",
       "      <td>E9438</td>\n",
       "      <td>8278</td>\n",
       "      <td>r2fycA@outlook.com</td>\n",
       "      <td>Rossane</td>\n",
       "      <td>False</td>\n",
       "      <td>False</td>\n",
       "      <td>False</td>\n",
       "      <td>por revisar</td>\n",
       "      <td>2024-05-10</td>\n",
       "      <td>44332211</td>\n",
       "      <td>devuelta</td>\n",
       "    </tr>\n",
       "  </tbody>\n",
       "</table>\n",
       "<p>496 rows × 13 columns</p>\n",
       "</div>"
      ],
      "text/plain": [
       "     id_venta   nombre_cliente    dni  telefono                  correo  \\\n",
       "0           1     Jesus PÃ©rez  N4184      4973    oCmfqGDJ6h@yahoo.com   \n",
       "1           2    Jesus Delgado  X5338      7576     7OJ33cJ@outlook.com   \n",
       "2           3       Luis Covas  X8972      3427    iTwZVevf@hotmail.com   \n",
       "3           4    Will JimÃ©nez  N6995      6117         ylRst@yahoo.com   \n",
       "4           5   Carlos Delgado  B7139      9615      ZgJdR3@outlook.com   \n",
       "..        ...              ...    ...       ...                     ...   \n",
       "491       492      Juan PÃ©rez  B7942      8614  B72P3CASbQ@hotmail.com   \n",
       "492       493  Renata JimÃ©nez  B7266      8775  6968El1Vsi@outlook.com   \n",
       "493       494  Marlon Coronell  X6956      7539    V0ikNSRaPY@yahoo.com   \n",
       "494       495     Carlos Gomez  X6878      6347      w5QrswVo99@aol.com   \n",
       "495       496     Ana Coronell  E9438      8278      r2fycA@outlook.com   \n",
       "\n",
       "         agente  llamada_realizada  calidad_enviada  verificacion_calidad  \\\n",
       "0       Rossane              False            False                 False   \n",
       "1       Rossane              False            False                 False   \n",
       "2      An Yujin              False            False                 False   \n",
       "3      An Yujin              False            False                 False   \n",
       "4    ZacksPerez              False            False                 False   \n",
       "..          ...                ...              ...                   ...   \n",
       "491       Zacks              False            False                 False   \n",
       "492     Rossane              False            False                 False   \n",
       "493    An Yujin              False            False                 False   \n",
       "494        Jean              False            False                 False   \n",
       "495     Rossane              False            False                 False   \n",
       "\n",
       "    observaciones_calidad fecha_ingreso  observaciones_venta     estado  \n",
       "0             por revisar    2024-05-18             44332211   temporal  \n",
       "1             por revisar    2024-03-24             44332211  cancelada  \n",
       "2             por revisar    2024-03-08              1234569   devuelta  \n",
       "3             por revisar    2024-04-28             12233344   devuelta  \n",
       "4             por revisar    2024-02-10             12233344  cancelada  \n",
       "..                    ...           ...                  ...        ...  \n",
       "491           por revisar    2024-02-18              1234569   temporal  \n",
       "492           por revisar    2024-05-16             12233344  cancelada  \n",
       "493           por revisar    2024-05-16             12233344     activa  \n",
       "494           por revisar    2024-03-28             12233344     activa  \n",
       "495           por revisar    2024-05-10             44332211   devuelta  \n",
       "\n",
       "[496 rows x 13 columns]"
      ]
     },
     "execution_count": 10,
     "metadata": {},
     "output_type": "execute_result"
    }
   ],
   "source": [
    "df"
   ]
  },
  {
   "cell_type": "code",
   "execution_count": 11,
   "metadata": {},
   "outputs": [
    {
     "data": {
      "text/plain": [
       "Index(['id_venta', 'nombre_cliente', 'dni', 'telefono', 'correo', 'agente',\n",
       "       'llamada_realizada', 'calidad_enviada', 'verificacion_calidad',\n",
       "       'observaciones_calidad', 'fecha_ingreso', 'observaciones_venta',\n",
       "       'estado'],\n",
       "      dtype='object')"
      ]
     },
     "execution_count": 11,
     "metadata": {},
     "output_type": "execute_result"
    }
   ],
   "source": [
    "df.columns"
   ]
  },
  {
   "cell_type": "code",
   "execution_count": 12,
   "metadata": {},
   "outputs": [
    {
     "name": "stdout",
     "output_type": "stream",
     "text": [
      "<class 'pandas.core.frame.DataFrame'>\n",
      "RangeIndex: 496 entries, 0 to 495\n",
      "Data columns (total 13 columns):\n",
      " #   Column                 Non-Null Count  Dtype         \n",
      "---  ------                 --------------  -----         \n",
      " 0   id_venta               496 non-null    int64         \n",
      " 1   nombre_cliente         496 non-null    object        \n",
      " 2   dni                    496 non-null    object        \n",
      " 3   telefono               496 non-null    int64         \n",
      " 4   correo                 496 non-null    object        \n",
      " 5   agente                 496 non-null    object        \n",
      " 6   llamada_realizada      496 non-null    bool          \n",
      " 7   calidad_enviada        496 non-null    bool          \n",
      " 8   verificacion_calidad   496 non-null    bool          \n",
      " 9   observaciones_calidad  496 non-null    object        \n",
      " 10  fecha_ingreso          496 non-null    datetime64[ns]\n",
      " 11  observaciones_venta    496 non-null    int64         \n",
      " 12  estado                 496 non-null    object        \n",
      "dtypes: bool(3), datetime64[ns](1), int64(3), object(6)\n",
      "memory usage: 40.3+ KB\n"
     ]
    }
   ],
   "source": [
    "df.info()"
   ]
  },
  {
   "cell_type": "code",
   "execution_count": 16,
   "metadata": {},
   "outputs": [
    {
     "data": {
      "text/plain": [
       "array(['Rossane', 'An Yujin', 'ZacksPerez', 'Zacks', 'Jean'], dtype=object)"
      ]
     },
     "execution_count": 16,
     "metadata": {},
     "output_type": "execute_result"
    }
   ],
   "source": [
    "agentes = df['agente'].unique()\n",
    "agentes"
   ]
  },
  {
   "cell_type": "code",
   "execution_count": 18,
   "metadata": {},
   "outputs": [
    {
     "data": {
      "text/plain": [
       "array(['temporal', 'cancelada', 'devuelta', 'tramite alta', 'activa'],\n",
       "      dtype=object)"
      ]
     },
     "execution_count": 18,
     "metadata": {},
     "output_type": "execute_result"
    }
   ],
   "source": [
    "estado_venta = df['estado'].unique()\n",
    "estado_venta"
   ]
  },
  {
   "cell_type": "markdown",
   "metadata": {},
   "source": [
    "Sacar los meses de la fecha de ingreso para posteriormente sacar las ventas de manera mensual"
   ]
  },
  {
   "cell_type": "code",
   "execution_count": 33,
   "metadata": {},
   "outputs": [],
   "source": [
    "df['mes'] = df['fecha_ingreso'].dt.strftime('%B')\n"
   ]
  },
  {
   "cell_type": "code",
   "execution_count": 34,
   "metadata": {},
   "outputs": [
    {
     "data": {
      "text/html": [
       "<div>\n",
       "<style scoped>\n",
       "    .dataframe tbody tr th:only-of-type {\n",
       "        vertical-align: middle;\n",
       "    }\n",
       "\n",
       "    .dataframe tbody tr th {\n",
       "        vertical-align: top;\n",
       "    }\n",
       "\n",
       "    .dataframe thead th {\n",
       "        text-align: right;\n",
       "    }\n",
       "</style>\n",
       "<table border=\"1\" class=\"dataframe\">\n",
       "  <thead>\n",
       "    <tr style=\"text-align: right;\">\n",
       "      <th></th>\n",
       "      <th>id_venta</th>\n",
       "      <th>nombre_cliente</th>\n",
       "      <th>dni</th>\n",
       "      <th>telefono</th>\n",
       "      <th>correo</th>\n",
       "      <th>agente</th>\n",
       "      <th>llamada_realizada</th>\n",
       "      <th>calidad_enviada</th>\n",
       "      <th>verificacion_calidad</th>\n",
       "      <th>observaciones_calidad</th>\n",
       "      <th>fecha_ingreso</th>\n",
       "      <th>observaciones_venta</th>\n",
       "      <th>estado</th>\n",
       "      <th>mes</th>\n",
       "    </tr>\n",
       "  </thead>\n",
       "  <tbody>\n",
       "    <tr>\n",
       "      <th>0</th>\n",
       "      <td>1</td>\n",
       "      <td>Jesus PÃ©rez</td>\n",
       "      <td>N4184</td>\n",
       "      <td>4973</td>\n",
       "      <td>oCmfqGDJ6h@yahoo.com</td>\n",
       "      <td>Rossane</td>\n",
       "      <td>False</td>\n",
       "      <td>False</td>\n",
       "      <td>False</td>\n",
       "      <td>por revisar</td>\n",
       "      <td>2024-05-18</td>\n",
       "      <td>44332211</td>\n",
       "      <td>temporal</td>\n",
       "      <td>May</td>\n",
       "    </tr>\n",
       "    <tr>\n",
       "      <th>1</th>\n",
       "      <td>2</td>\n",
       "      <td>Jesus Delgado</td>\n",
       "      <td>X5338</td>\n",
       "      <td>7576</td>\n",
       "      <td>7OJ33cJ@outlook.com</td>\n",
       "      <td>Rossane</td>\n",
       "      <td>False</td>\n",
       "      <td>False</td>\n",
       "      <td>False</td>\n",
       "      <td>por revisar</td>\n",
       "      <td>2024-03-24</td>\n",
       "      <td>44332211</td>\n",
       "      <td>cancelada</td>\n",
       "      <td>March</td>\n",
       "    </tr>\n",
       "    <tr>\n",
       "      <th>2</th>\n",
       "      <td>3</td>\n",
       "      <td>Luis Covas</td>\n",
       "      <td>X8972</td>\n",
       "      <td>3427</td>\n",
       "      <td>iTwZVevf@hotmail.com</td>\n",
       "      <td>An Yujin</td>\n",
       "      <td>False</td>\n",
       "      <td>False</td>\n",
       "      <td>False</td>\n",
       "      <td>por revisar</td>\n",
       "      <td>2024-03-08</td>\n",
       "      <td>1234569</td>\n",
       "      <td>devuelta</td>\n",
       "      <td>March</td>\n",
       "    </tr>\n",
       "    <tr>\n",
       "      <th>3</th>\n",
       "      <td>4</td>\n",
       "      <td>Will JimÃ©nez</td>\n",
       "      <td>N6995</td>\n",
       "      <td>6117</td>\n",
       "      <td>ylRst@yahoo.com</td>\n",
       "      <td>An Yujin</td>\n",
       "      <td>False</td>\n",
       "      <td>False</td>\n",
       "      <td>False</td>\n",
       "      <td>por revisar</td>\n",
       "      <td>2024-04-28</td>\n",
       "      <td>12233344</td>\n",
       "      <td>devuelta</td>\n",
       "      <td>April</td>\n",
       "    </tr>\n",
       "    <tr>\n",
       "      <th>4</th>\n",
       "      <td>5</td>\n",
       "      <td>Carlos Delgado</td>\n",
       "      <td>B7139</td>\n",
       "      <td>9615</td>\n",
       "      <td>ZgJdR3@outlook.com</td>\n",
       "      <td>ZacksPerez</td>\n",
       "      <td>False</td>\n",
       "      <td>False</td>\n",
       "      <td>False</td>\n",
       "      <td>por revisar</td>\n",
       "      <td>2024-02-10</td>\n",
       "      <td>12233344</td>\n",
       "      <td>cancelada</td>\n",
       "      <td>February</td>\n",
       "    </tr>\n",
       "    <tr>\n",
       "      <th>...</th>\n",
       "      <td>...</td>\n",
       "      <td>...</td>\n",
       "      <td>...</td>\n",
       "      <td>...</td>\n",
       "      <td>...</td>\n",
       "      <td>...</td>\n",
       "      <td>...</td>\n",
       "      <td>...</td>\n",
       "      <td>...</td>\n",
       "      <td>...</td>\n",
       "      <td>...</td>\n",
       "      <td>...</td>\n",
       "      <td>...</td>\n",
       "      <td>...</td>\n",
       "    </tr>\n",
       "    <tr>\n",
       "      <th>491</th>\n",
       "      <td>492</td>\n",
       "      <td>Juan PÃ©rez</td>\n",
       "      <td>B7942</td>\n",
       "      <td>8614</td>\n",
       "      <td>B72P3CASbQ@hotmail.com</td>\n",
       "      <td>Zacks</td>\n",
       "      <td>False</td>\n",
       "      <td>False</td>\n",
       "      <td>False</td>\n",
       "      <td>por revisar</td>\n",
       "      <td>2024-02-18</td>\n",
       "      <td>1234569</td>\n",
       "      <td>temporal</td>\n",
       "      <td>February</td>\n",
       "    </tr>\n",
       "    <tr>\n",
       "      <th>492</th>\n",
       "      <td>493</td>\n",
       "      <td>Renata JimÃ©nez</td>\n",
       "      <td>B7266</td>\n",
       "      <td>8775</td>\n",
       "      <td>6968El1Vsi@outlook.com</td>\n",
       "      <td>Rossane</td>\n",
       "      <td>False</td>\n",
       "      <td>False</td>\n",
       "      <td>False</td>\n",
       "      <td>por revisar</td>\n",
       "      <td>2024-05-16</td>\n",
       "      <td>12233344</td>\n",
       "      <td>cancelada</td>\n",
       "      <td>May</td>\n",
       "    </tr>\n",
       "    <tr>\n",
       "      <th>493</th>\n",
       "      <td>494</td>\n",
       "      <td>Marlon Coronell</td>\n",
       "      <td>X6956</td>\n",
       "      <td>7539</td>\n",
       "      <td>V0ikNSRaPY@yahoo.com</td>\n",
       "      <td>An Yujin</td>\n",
       "      <td>False</td>\n",
       "      <td>False</td>\n",
       "      <td>False</td>\n",
       "      <td>por revisar</td>\n",
       "      <td>2024-05-16</td>\n",
       "      <td>12233344</td>\n",
       "      <td>activa</td>\n",
       "      <td>May</td>\n",
       "    </tr>\n",
       "    <tr>\n",
       "      <th>494</th>\n",
       "      <td>495</td>\n",
       "      <td>Carlos Gomez</td>\n",
       "      <td>X6878</td>\n",
       "      <td>6347</td>\n",
       "      <td>w5QrswVo99@aol.com</td>\n",
       "      <td>Jean</td>\n",
       "      <td>False</td>\n",
       "      <td>False</td>\n",
       "      <td>False</td>\n",
       "      <td>por revisar</td>\n",
       "      <td>2024-03-28</td>\n",
       "      <td>12233344</td>\n",
       "      <td>activa</td>\n",
       "      <td>March</td>\n",
       "    </tr>\n",
       "    <tr>\n",
       "      <th>495</th>\n",
       "      <td>496</td>\n",
       "      <td>Ana Coronell</td>\n",
       "      <td>E9438</td>\n",
       "      <td>8278</td>\n",
       "      <td>r2fycA@outlook.com</td>\n",
       "      <td>Rossane</td>\n",
       "      <td>False</td>\n",
       "      <td>False</td>\n",
       "      <td>False</td>\n",
       "      <td>por revisar</td>\n",
       "      <td>2024-05-10</td>\n",
       "      <td>44332211</td>\n",
       "      <td>devuelta</td>\n",
       "      <td>May</td>\n",
       "    </tr>\n",
       "  </tbody>\n",
       "</table>\n",
       "<p>496 rows × 14 columns</p>\n",
       "</div>"
      ],
      "text/plain": [
       "     id_venta   nombre_cliente    dni  telefono                  correo  \\\n",
       "0           1     Jesus PÃ©rez  N4184      4973    oCmfqGDJ6h@yahoo.com   \n",
       "1           2    Jesus Delgado  X5338      7576     7OJ33cJ@outlook.com   \n",
       "2           3       Luis Covas  X8972      3427    iTwZVevf@hotmail.com   \n",
       "3           4    Will JimÃ©nez  N6995      6117         ylRst@yahoo.com   \n",
       "4           5   Carlos Delgado  B7139      9615      ZgJdR3@outlook.com   \n",
       "..        ...              ...    ...       ...                     ...   \n",
       "491       492      Juan PÃ©rez  B7942      8614  B72P3CASbQ@hotmail.com   \n",
       "492       493  Renata JimÃ©nez  B7266      8775  6968El1Vsi@outlook.com   \n",
       "493       494  Marlon Coronell  X6956      7539    V0ikNSRaPY@yahoo.com   \n",
       "494       495     Carlos Gomez  X6878      6347      w5QrswVo99@aol.com   \n",
       "495       496     Ana Coronell  E9438      8278      r2fycA@outlook.com   \n",
       "\n",
       "         agente  llamada_realizada  calidad_enviada  verificacion_calidad  \\\n",
       "0       Rossane              False            False                 False   \n",
       "1       Rossane              False            False                 False   \n",
       "2      An Yujin              False            False                 False   \n",
       "3      An Yujin              False            False                 False   \n",
       "4    ZacksPerez              False            False                 False   \n",
       "..          ...                ...              ...                   ...   \n",
       "491       Zacks              False            False                 False   \n",
       "492     Rossane              False            False                 False   \n",
       "493    An Yujin              False            False                 False   \n",
       "494        Jean              False            False                 False   \n",
       "495     Rossane              False            False                 False   \n",
       "\n",
       "    observaciones_calidad fecha_ingreso  observaciones_venta     estado  \\\n",
       "0             por revisar    2024-05-18             44332211   temporal   \n",
       "1             por revisar    2024-03-24             44332211  cancelada   \n",
       "2             por revisar    2024-03-08              1234569   devuelta   \n",
       "3             por revisar    2024-04-28             12233344   devuelta   \n",
       "4             por revisar    2024-02-10             12233344  cancelada   \n",
       "..                    ...           ...                  ...        ...   \n",
       "491           por revisar    2024-02-18              1234569   temporal   \n",
       "492           por revisar    2024-05-16             12233344  cancelada   \n",
       "493           por revisar    2024-05-16             12233344     activa   \n",
       "494           por revisar    2024-03-28             12233344     activa   \n",
       "495           por revisar    2024-05-10             44332211   devuelta   \n",
       "\n",
       "          mes  \n",
       "0         May  \n",
       "1       March  \n",
       "2       March  \n",
       "3       April  \n",
       "4    February  \n",
       "..        ...  \n",
       "491  February  \n",
       "492       May  \n",
       "493       May  \n",
       "494     March  \n",
       "495       May  \n",
       "\n",
       "[496 rows x 14 columns]"
      ]
     },
     "execution_count": 34,
     "metadata": {},
     "output_type": "execute_result"
    }
   ],
   "source": [
    "df"
   ]
  },
  {
   "cell_type": "markdown",
   "metadata": {},
   "source": [
    "Estado de las ventas"
   ]
  },
  {
   "cell_type": "code",
   "execution_count": 87,
   "metadata": {},
   "outputs": [
    {
     "data": {
      "text/html": [
       "<div>\n",
       "<style scoped>\n",
       "    .dataframe tbody tr th:only-of-type {\n",
       "        vertical-align: middle;\n",
       "    }\n",
       "\n",
       "    .dataframe tbody tr th {\n",
       "        vertical-align: top;\n",
       "    }\n",
       "\n",
       "    .dataframe thead th {\n",
       "        text-align: right;\n",
       "    }\n",
       "</style>\n",
       "<table border=\"1\" class=\"dataframe\">\n",
       "  <thead>\n",
       "    <tr style=\"text-align: right;\">\n",
       "      <th></th>\n",
       "      <th>estado</th>\n",
       "      <th>contador</th>\n",
       "    </tr>\n",
       "  </thead>\n",
       "  <tbody>\n",
       "    <tr>\n",
       "      <th>0</th>\n",
       "      <td>activa</td>\n",
       "      <td>109</td>\n",
       "    </tr>\n",
       "    <tr>\n",
       "      <th>1</th>\n",
       "      <td>cancelada</td>\n",
       "      <td>103</td>\n",
       "    </tr>\n",
       "    <tr>\n",
       "      <th>2</th>\n",
       "      <td>devuelta</td>\n",
       "      <td>101</td>\n",
       "    </tr>\n",
       "    <tr>\n",
       "      <th>3</th>\n",
       "      <td>temporal</td>\n",
       "      <td>95</td>\n",
       "    </tr>\n",
       "    <tr>\n",
       "      <th>4</th>\n",
       "      <td>tramite alta</td>\n",
       "      <td>88</td>\n",
       "    </tr>\n",
       "  </tbody>\n",
       "</table>\n",
       "</div>"
      ],
      "text/plain": [
       "         estado  contador\n",
       "0        activa       109\n",
       "1     cancelada       103\n",
       "2      devuelta       101\n",
       "3      temporal        95\n",
       "4  tramite alta        88"
      ]
     },
     "execution_count": 87,
     "metadata": {},
     "output_type": "execute_result"
    }
   ],
   "source": [
    "estado_ventas = df['estado'].str.split(', ').explode()\n",
    "contar_estado_ventas = Counter(estado_ventas)\n",
    "top_estado_ventas = contar_estado_ventas.most_common()\n",
    "df_estado_ventas = pd.DataFrame(top_estado_ventas, columns=[\"estado\", \"contador\"])\n",
    "df_estado_ventas"
   ]
  },
  {
   "cell_type": "markdown",
   "metadata": {},
   "source": [
    "Contar la cantidad de ventas por mes"
   ]
  },
  {
   "cell_type": "code",
   "execution_count": 72,
   "metadata": {},
   "outputs": [
    {
     "data": {
      "text/html": [
       "<div>\n",
       "<style scoped>\n",
       "    .dataframe tbody tr th:only-of-type {\n",
       "        vertical-align: middle;\n",
       "    }\n",
       "\n",
       "    .dataframe tbody tr th {\n",
       "        vertical-align: top;\n",
       "    }\n",
       "\n",
       "    .dataframe thead th {\n",
       "        text-align: right;\n",
       "    }\n",
       "</style>\n",
       "<table border=\"1\" class=\"dataframe\">\n",
       "  <thead>\n",
       "    <tr style=\"text-align: right;\">\n",
       "      <th></th>\n",
       "      <th>mes</th>\n",
       "      <th>contador</th>\n",
       "    </tr>\n",
       "  </thead>\n",
       "  <tbody>\n",
       "    <tr>\n",
       "      <th>0</th>\n",
       "      <td>April</td>\n",
       "      <td>105</td>\n",
       "    </tr>\n",
       "    <tr>\n",
       "      <th>1</th>\n",
       "      <td>May</td>\n",
       "      <td>102</td>\n",
       "    </tr>\n",
       "    <tr>\n",
       "      <th>2</th>\n",
       "      <td>February</td>\n",
       "      <td>100</td>\n",
       "    </tr>\n",
       "    <tr>\n",
       "      <th>3</th>\n",
       "      <td>January</td>\n",
       "      <td>100</td>\n",
       "    </tr>\n",
       "    <tr>\n",
       "      <th>4</th>\n",
       "      <td>March</td>\n",
       "      <td>89</td>\n",
       "    </tr>\n",
       "  </tbody>\n",
       "</table>\n",
       "</div>"
      ],
      "text/plain": [
       "        mes  contador\n",
       "0     April       105\n",
       "1       May       102\n",
       "2  February       100\n",
       "3   January       100\n",
       "4     March        89"
      ]
     },
     "execution_count": 72,
     "metadata": {},
     "output_type": "execute_result"
    }
   ],
   "source": [
    "\n",
    "mes_con_mas_ventas = df['mes'].str.split(', ').explode()\n",
    "contar_mes = Counter(mes_con_mas_ventas)\n",
    "top_ventas_por_mes = contar_mes.most_common()\n",
    "df_ventas_mes = pd.DataFrame(top_ventas_por_mes, columns=[\"mes\", \"contador\"])\n",
    "df_ventas_mes"
   ]
  },
  {
   "cell_type": "markdown",
   "metadata": {},
   "source": [
    "### Ventas por mes"
   ]
  },
  {
   "cell_type": "code",
   "execution_count": 54,
   "metadata": {},
   "outputs": [
    {
     "data": {
      "image/png": "[encoded data removed]",
      "text/plain": [
       "<Figure size 640x480 with 1 Axes>"
      ]
     },
     "metadata": {},
     "output_type": "display_data"
    },
    {
     "data": {
      "text/plain": [
       "<Figure size 1000x600 with 0 Axes>"
      ]
     },
     "metadata": {},
     "output_type": "display_data"
    }
   ],
   "source": [
    "plt.bar(df_ventas_mes['mes'], df_ventas_mes['contador'])\n",
    "plt.figure(figsize=(10, 6))\n",
    "plt.show()"
   ]
  },
  {
   "cell_type": "code",
   "execution_count": 65,
   "metadata": {},
   "outputs": [
    {
     "data": {
      "image/png": "[encoded data removed]",
      "text/plain": [
       "<Figure size 1000x600 with 1 Axes>"
      ]
     },
     "metadata": {},
     "output_type": "display_data"
    }
   ],
   "source": [
    "plt.figure(figsize=(10, 6))\n",
    "plt.pie(df_ventas_mes['contador'], labels=df_ventas_mes['mes'], autopct='%1.1f%%', startangle=140)\n",
    "plt.title('Distribución de Ventas por Mes')\n",
    "plt.axis('equal')  # Igualar los ejes para que el gráfico de torta sea un círculo.\n",
    "plt.show()"
   ]
  },
  {
   "cell_type": "markdown",
   "metadata": {},
   "source": [
    "### Ventas por agente"
   ]
  },
  {
   "cell_type": "code",
   "execution_count": 66,
   "metadata": {},
   "outputs": [
    {
     "data": {
      "image/png": "[encoded data removed]",
      "text/plain": [
       "<Figure size 1000x600 with 1 Axes>"
      ]
     },
     "metadata": {},
     "output_type": "display_data"
    }
   ],
   "source": [
    "plt.figure(figsize=(10,6))\n",
    "plt.hist(df[\"agente\"])\n",
    "plt.xlabel(\"Agente\")\n",
    "plt.ylabel(\"Cantidad de ventas\")\n",
    "plt.title(\"Cantidad de ventas por agente\")\n",
    "plt.show()"
   ]
  },
  {
   "cell_type": "code",
   "execution_count": 94,
   "metadata": {},
   "outputs": [
    {
     "data": {
      "image/png": "[encoded data removed]",
      "text/plain": [
       "<Figure size 640x480 with 1 Axes>"
      ]
     },
     "metadata": {},
     "output_type": "display_data"
    }
   ],
   "source": [
    "plt.hist(df[\"mes\"])\n",
    "plt.xlabel(\"Mes\")\n",
    "plt.ylabel(\"Frecuencia\")\n",
    "plt.title(\"Cantidad de ventas por mes\")\n",
    "plt.gca().invert_xaxis()  # Invertir el eje y para que el escritor con la calificación más alta esté en la parte superior\n",
    "\n",
    "plt.show()"
   ]
  },
  {
   "cell_type": "markdown",
   "metadata": {},
   "source": [
    "### Estado de las ventas en general"
   ]
  },
  {
   "cell_type": "code",
   "execution_count": 121,
   "metadata": {},
   "outputs": [
    {
     "data": {
      "image/png": "[encoded data removed]",
      "text/plain": [
       "<Figure size 1000x600 with 1 Axes>"
      ]
     },
     "metadata": {},
     "output_type": "display_data"
    }
   ],
   "source": [
    "plt.figure(figsize=(10, 6))\n",
    "plt.pie(df['estado'].value_counts(), labels=df['estado'].unique(), autopct='%d', startangle=140)\n",
    "plt.title('Distribución de Ventas por Mes')\n",
    "plt.axis('equal')  # Igualar los ejes para que el gráfico de torta sea un círculo.\n",
    "plt.show()"
   ]
  },
  {
   "cell_type": "markdown",
   "metadata": {},
   "source": [
    "## Mostrar el estado de las ventas por mes"
   ]
  },
  {
   "cell_type": "code",
   "execution_count": 116,
   "metadata": {},
   "outputs": [],
   "source": [
    "estado_agrupado_mes = df.groupby(['mes', 'estado']).size().unstack(fill_value=0)"
   ]
  },
  {
   "cell_type": "code",
   "execution_count": 117,
   "metadata": {},
   "outputs": [
    {
     "data": {
      "text/html": [
       "<div>\n",
       "<style scoped>\n",
       "    .dataframe tbody tr th:only-of-type {\n",
       "        vertical-align: middle;\n",
       "    }\n",
       "\n",
       "    .dataframe tbody tr th {\n",
       "        vertical-align: top;\n",
       "    }\n",
       "\n",
       "    .dataframe thead th {\n",
       "        text-align: right;\n",
       "    }\n",
       "</style>\n",
       "<table border=\"1\" class=\"dataframe\">\n",
       "  <thead>\n",
       "    <tr style=\"text-align: right;\">\n",
       "      <th>estado</th>\n",
       "      <th>activa</th>\n",
       "      <th>cancelada</th>\n",
       "      <th>devuelta</th>\n",
       "      <th>temporal</th>\n",
       "      <th>tramite alta</th>\n",
       "      <th>Total</th>\n",
       "    </tr>\n",
       "    <tr>\n",
       "      <th>mes</th>\n",
       "      <th></th>\n",
       "      <th></th>\n",
       "      <th></th>\n",
       "      <th></th>\n",
       "      <th></th>\n",
       "      <th></th>\n",
       "    </tr>\n",
       "  </thead>\n",
       "  <tbody>\n",
       "    <tr>\n",
       "      <th>April</th>\n",
       "      <td>27</td>\n",
       "      <td>13</td>\n",
       "      <td>24</td>\n",
       "      <td>28</td>\n",
       "      <td>13</td>\n",
       "      <td>105</td>\n",
       "    </tr>\n",
       "    <tr>\n",
       "      <th>February</th>\n",
       "      <td>21</td>\n",
       "      <td>22</td>\n",
       "      <td>14</td>\n",
       "      <td>18</td>\n",
       "      <td>25</td>\n",
       "      <td>100</td>\n",
       "    </tr>\n",
       "    <tr>\n",
       "      <th>January</th>\n",
       "      <td>20</td>\n",
       "      <td>21</td>\n",
       "      <td>18</td>\n",
       "      <td>23</td>\n",
       "      <td>18</td>\n",
       "      <td>100</td>\n",
       "    </tr>\n",
       "    <tr>\n",
       "      <th>March</th>\n",
       "      <td>13</td>\n",
       "      <td>26</td>\n",
       "      <td>20</td>\n",
       "      <td>17</td>\n",
       "      <td>13</td>\n",
       "      <td>89</td>\n",
       "    </tr>\n",
       "    <tr>\n",
       "      <th>May</th>\n",
       "      <td>28</td>\n",
       "      <td>21</td>\n",
       "      <td>25</td>\n",
       "      <td>9</td>\n",
       "      <td>19</td>\n",
       "      <td>102</td>\n",
       "    </tr>\n",
       "  </tbody>\n",
       "</table>\n",
       "</div>"
      ],
      "text/plain": [
       "estado    activa  cancelada  devuelta  temporal  tramite alta  Total\n",
       "mes                                                                 \n",
       "April         27         13        24        28            13    105\n",
       "February      21         22        14        18            25    100\n",
       "January       20         21        18        23            18    100\n",
       "March         13         26        20        17            13     89\n",
       "May           28         21        25         9            19    102"
      ]
     },
     "execution_count": 117,
     "metadata": {},
     "output_type": "execute_result"
    }
   ],
   "source": [
    "estado_agrupado_mes_totales = estado_agrupado_mes.copy()\n",
    "estado_agrupado_mes_totales['Total'] = estado_agrupado_mes.sum(axis=1)\n",
    "\n",
    "estado_agrupado_mes_totales"
   ]
  },
  {
   "cell_type": "code",
   "execution_count": 119,
   "metadata": {},
   "outputs": [
    {
     "data": {
      "image/png": "[encoded data removed]",
      "text/plain": [
       "<Figure size 1000x600 with 1 Axes>"
      ]
     },
     "metadata": {},
     "output_type": "display_data"
    }
   ],
   "source": [
    "estado_agrupado_mes.plot(kind='bar', stacked=True, figsize=(10, 6))\n",
    "\n",
    "plt.title('Cantidad de Estado por Mes')\n",
    "plt.xlabel('Mes')\n",
    "plt.ylabel('Número de Estados')\n",
    "plt.legend(title='Estado')\n",
    "plt.show()"
   ]
  },
  {
   "cell_type": "code",
   "execution_count": 92,
   "metadata": {},
   "outputs": [
    {
     "data": {
      "image/png": "[encoded data removed]",
      "text/plain": [
       "<Figure size 640x480 with 1 Axes>"
      ]
     },
     "metadata": {},
     "output_type": "display_data"
    }
   ],
   "source": [
    "plt.bar(df_estado_ventas['estado'], df_estado_ventas['contador'])\n",
    "plt.show()"
   ]
  }
 ],
 "metadata": {
  "kernelspec": {
   "display_name": "Python 3",
   "language": "python",
   "name": "python3"
  },
  "language_info": {
   "codemirror_mode": {
    "name": "ipython",
    "version": 3
   },
   "file_extension": ".py",
   "mimetype": "text/x-python",
   "name": "python",
   "nbconvert_exporter": "python",
   "pygments_lexer": "ipython3",
   "version": "3.8.0"
  }
 },
 "nbformat": 4,
 "nbformat_minor": 2
}
