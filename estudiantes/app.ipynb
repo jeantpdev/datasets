{
 "cells": [
  {
   "cell_type": "code",
   "execution_count": 2,
   "metadata": {},
   "outputs": [],
   "source": [
    "import pandas as pd"
   ]
  },
  {
   "cell_type": "code",
   "execution_count": 59,
   "metadata": {},
   "outputs": [],
   "source": [
    "pd.set_option('display.max_rows', 60)"
   ]
  },
  {
   "cell_type": "code",
   "execution_count": 4,
   "metadata": {},
   "outputs": [],
   "source": [
    "df_ruta = \"./Students Performance.csv\""
   ]
  },
  {
   "cell_type": "code",
   "execution_count": 5,
   "metadata": {},
   "outputs": [],
   "source": [
    "df = pd.read_csv(df_ruta)"
   ]
  },
  {
   "cell_type": "code",
   "execution_count": 6,
   "metadata": {},
   "outputs": [
    {
     "name": "stdout",
     "output_type": "stream",
     "text": [
      "<class 'pandas.core.frame.DataFrame'>\n",
      "RangeIndex: 399 entries, 0 to 398\n",
      "Data columns (total 5 columns):\n",
      " #   Column           Non-Null Count  Dtype\n",
      "---  ------           --------------  -----\n",
      " 0   Math_Score       399 non-null    int64\n",
      " 1   Reading_Score    399 non-null    int64\n",
      " 2   Writing_Score    399 non-null    int64\n",
      " 3   Placement_Score  399 non-null    int64\n",
      " 4   Club_Join_Date   399 non-null    int64\n",
      "dtypes: int64(5)\n",
      "memory usage: 15.7 KB\n"
     ]
    }
   ],
   "source": [
    "df.info()"
   ]
  },
  {
   "cell_type": "markdown",
   "metadata": {},
   "source": [
    "La data contiene una estadisticas relacionadas a un club de matematicas. Contiene columnas como el puntaje en Matematicas, la fecha de entrada al club, el puntaje de escritura entre otras.\n",
    "\n",
    "Se va a analizar:\n",
    "\n",
    "* ¿Qué año tuvo mejor rendimiento? (Placement_Score)\n",
    "* El puntaje máximo por categoria por año. (Math_Score, Reading_Score, Writing_Score)"
   ]
  },
  {
   "cell_type": "code",
   "execution_count": 7,
   "metadata": {},
   "outputs": [
    {
     "data": {
      "text/html": [
       "<div>\n",
       "<style scoped>\n",
       "    .dataframe tbody tr th:only-of-type {\n",
       "        vertical-align: middle;\n",
       "    }\n",
       "\n",
       "    .dataframe tbody tr th {\n",
       "        vertical-align: top;\n",
       "    }\n",
       "\n",
       "    .dataframe thead th {\n",
       "        text-align: right;\n",
       "    }\n",
       "</style>\n",
       "<table border=\"1\" class=\"dataframe\">\n",
       "  <thead>\n",
       "    <tr style=\"text-align: right;\">\n",
       "      <th></th>\n",
       "      <th>Math_Score</th>\n",
       "      <th>Reading_Score</th>\n",
       "      <th>Writing_Score</th>\n",
       "      <th>Placement_Score</th>\n",
       "      <th>Club_Join_Date</th>\n",
       "    </tr>\n",
       "  </thead>\n",
       "  <tbody>\n",
       "    <tr>\n",
       "      <th>0</th>\n",
       "      <td>65</td>\n",
       "      <td>86</td>\n",
       "      <td>67</td>\n",
       "      <td>78</td>\n",
       "      <td>2021</td>\n",
       "    </tr>\n",
       "    <tr>\n",
       "      <th>1</th>\n",
       "      <td>64</td>\n",
       "      <td>85</td>\n",
       "      <td>71</td>\n",
       "      <td>80</td>\n",
       "      <td>2019</td>\n",
       "    </tr>\n",
       "    <tr>\n",
       "      <th>2</th>\n",
       "      <td>76</td>\n",
       "      <td>77</td>\n",
       "      <td>77</td>\n",
       "      <td>84</td>\n",
       "      <td>2021</td>\n",
       "    </tr>\n",
       "    <tr>\n",
       "      <th>3</th>\n",
       "      <td>80</td>\n",
       "      <td>76</td>\n",
       "      <td>75</td>\n",
       "      <td>75</td>\n",
       "      <td>2021</td>\n",
       "    </tr>\n",
       "    <tr>\n",
       "      <th>4</th>\n",
       "      <td>63</td>\n",
       "      <td>91</td>\n",
       "      <td>62</td>\n",
       "      <td>90</td>\n",
       "      <td>2019</td>\n",
       "    </tr>\n",
       "  </tbody>\n",
       "</table>\n",
       "</div>"
      ],
      "text/plain": [
       "   Math_Score  Reading_Score  Writing_Score  Placement_Score  Club_Join_Date\n",
       "0          65             86             67               78            2021\n",
       "1          64             85             71               80            2019\n",
       "2          76             77             77               84            2021\n",
       "3          80             76             75               75            2021\n",
       "4          63             91             62               90            2019"
      ]
     },
     "execution_count": 7,
     "metadata": {},
     "output_type": "execute_result"
    }
   ],
   "source": [
    "df.head()"
   ]
  },
  {
   "cell_type": "markdown",
   "metadata": {},
   "source": [
    "### Años presentes"
   ]
  },
  {
   "cell_type": "code",
   "execution_count": 67,
   "metadata": {},
   "outputs": [
    {
     "data": {
      "text/plain": [
       "array([2021, 2019, 2020, 2018], dtype=int64)"
      ]
     },
     "execution_count": 67,
     "metadata": {},
     "output_type": "execute_result"
    }
   ],
   "source": [
    "df_year = df['Club_Join_Date'].unique()\n",
    "df_year"
   ]
  },
  {
   "cell_type": "markdown",
   "metadata": {},
   "source": [
    "### Estadisticas relacionadas al Placement Score"
   ]
  },
  {
   "cell_type": "code",
   "execution_count": 70,
   "metadata": {},
   "outputs": [
    {
     "data": {
      "text/plain": [
       "count    399.000000\n",
       "mean      80.345865\n",
       "std       11.452356\n",
       "min       60.000000\n",
       "25%       71.000000\n",
       "50%       80.000000\n",
       "75%       89.000000\n",
       "max      100.000000\n",
       "Name: Placement_Score, dtype: float64"
      ]
     },
     "execution_count": 70,
     "metadata": {},
     "output_type": "execute_result"
    }
   ],
   "source": [
    "df_placement = df[\"Placement_Score\"].describe()\n",
    "df_placement"
   ]
  },
  {
   "cell_type": "markdown",
   "metadata": {},
   "source": [
    "### Placement score mayor a 90 por año"
   ]
  },
  {
   "cell_type": "code",
   "execution_count": 57,
   "metadata": {},
   "outputs": [],
   "source": [
    "def filter_top_by_year():\n",
    "    df_top_performance_by_year = pd.DataFrame()\n",
    "    for year in df_year:\n",
    "        asd = df[(df[\"Club_Join_Date\"] == year) & (df[\"Placement_Score\"] > 90)]\n",
    "        df_top_performance_by_year = pd.concat([df_top_performance_by_year, asd])\n",
    "    return df_top_performance_by_year\n",
    "df_top_performance_by_year = filter_top_by_year()"
   ]
  },
  {
   "cell_type": "code",
   "execution_count": 71,
   "metadata": {},
   "outputs": [
    {
     "data": {
      "text/html": [
       "<div>\n",
       "<style scoped>\n",
       "    .dataframe tbody tr th:only-of-type {\n",
       "        vertical-align: middle;\n",
       "    }\n",
       "\n",
       "    .dataframe tbody tr th {\n",
       "        vertical-align: top;\n",
       "    }\n",
       "\n",
       "    .dataframe thead th {\n",
       "        text-align: right;\n",
       "    }\n",
       "</style>\n",
       "<table border=\"1\" class=\"dataframe\">\n",
       "  <thead>\n",
       "    <tr style=\"text-align: right;\">\n",
       "      <th></th>\n",
       "      <th>Math_Score</th>\n",
       "      <th>Reading_Score</th>\n",
       "      <th>Writing_Score</th>\n",
       "      <th>Placement_Score</th>\n",
       "      <th>Club_Join_Date</th>\n",
       "    </tr>\n",
       "  </thead>\n",
       "  <tbody>\n",
       "    <tr>\n",
       "      <th>20</th>\n",
       "      <td>69</td>\n",
       "      <td>82</td>\n",
       "      <td>60</td>\n",
       "      <td>93</td>\n",
       "      <td>2021</td>\n",
       "    </tr>\n",
       "    <tr>\n",
       "      <th>67</th>\n",
       "      <td>84</td>\n",
       "      <td>84</td>\n",
       "      <td>65</td>\n",
       "      <td>100</td>\n",
       "      <td>2021</td>\n",
       "    </tr>\n",
       "    <tr>\n",
       "      <th>89</th>\n",
       "      <td>73</td>\n",
       "      <td>96</td>\n",
       "      <td>86</td>\n",
       "      <td>95</td>\n",
       "      <td>2021</td>\n",
       "    </tr>\n",
       "    <tr>\n",
       "      <th>103</th>\n",
       "      <td>69</td>\n",
       "      <td>62</td>\n",
       "      <td>86</td>\n",
       "      <td>93</td>\n",
       "      <td>2021</td>\n",
       "    </tr>\n",
       "    <tr>\n",
       "      <th>109</th>\n",
       "      <td>66</td>\n",
       "      <td>67</td>\n",
       "      <td>85</td>\n",
       "      <td>95</td>\n",
       "      <td>2021</td>\n",
       "    </tr>\n",
       "    <tr>\n",
       "      <th>...</th>\n",
       "      <td>...</td>\n",
       "      <td>...</td>\n",
       "      <td>...</td>\n",
       "      <td>...</td>\n",
       "      <td>...</td>\n",
       "    </tr>\n",
       "    <tr>\n",
       "      <th>309</th>\n",
       "      <td>97</td>\n",
       "      <td>70</td>\n",
       "      <td>94</td>\n",
       "      <td>92</td>\n",
       "      <td>2018</td>\n",
       "    </tr>\n",
       "    <tr>\n",
       "      <th>324</th>\n",
       "      <td>68</td>\n",
       "      <td>68</td>\n",
       "      <td>60</td>\n",
       "      <td>91</td>\n",
       "      <td>2018</td>\n",
       "    </tr>\n",
       "    <tr>\n",
       "      <th>328</th>\n",
       "      <td>63</td>\n",
       "      <td>92</td>\n",
       "      <td>95</td>\n",
       "      <td>91</td>\n",
       "      <td>2018</td>\n",
       "    </tr>\n",
       "    <tr>\n",
       "      <th>345</th>\n",
       "      <td>97</td>\n",
       "      <td>93</td>\n",
       "      <td>79</td>\n",
       "      <td>95</td>\n",
       "      <td>2018</td>\n",
       "    </tr>\n",
       "    <tr>\n",
       "      <th>353</th>\n",
       "      <td>65</td>\n",
       "      <td>88</td>\n",
       "      <td>98</td>\n",
       "      <td>94</td>\n",
       "      <td>2018</td>\n",
       "    </tr>\n",
       "  </tbody>\n",
       "</table>\n",
       "<p>91 rows × 5 columns</p>\n",
       "</div>"
      ],
      "text/plain": [
       "     Math_Score  Reading_Score  Writing_Score  Placement_Score  Club_Join_Date\n",
       "20           69             82             60               93            2021\n",
       "67           84             84             65              100            2021\n",
       "89           73             96             86               95            2021\n",
       "103          69             62             86               93            2021\n",
       "109          66             67             85               95            2021\n",
       "..          ...            ...            ...              ...             ...\n",
       "309          97             70             94               92            2018\n",
       "324          68             68             60               91            2018\n",
       "328          63             92             95               91            2018\n",
       "345          97             93             79               95            2018\n",
       "353          65             88             98               94            2018\n",
       "\n",
       "[91 rows x 5 columns]"
      ]
     },
     "execution_count": 71,
     "metadata": {},
     "output_type": "execute_result"
    }
   ],
   "source": [
    "df_top_performance_by_year"
   ]
  },
  {
   "cell_type": "code",
   "execution_count": 66,
   "metadata": {},
   "outputs": [
    {
     "data": {
      "text/plain": [
       "Club_Join_Date\n",
       "2020    30\n",
       "2018    25\n",
       "2019    20\n",
       "2021    16\n",
       "Name: count, dtype: int64"
      ]
     },
     "execution_count": 66,
     "metadata": {},
     "output_type": "execute_result"
    }
   ],
   "source": [
    "df_top_performance_by_year[\"Club_Join_Date\"].value_counts()"
   ]
  },
  {
   "cell_type": "markdown",
   "metadata": {},
   "source": [
    "Conclusion > El año con mayor Placement Score fue en el 2020 y en el año 2021 tuvo una baja considerable"
   ]
  },
  {
   "cell_type": "markdown",
   "metadata": {},
   "source": [
    "### Media de datos en cada año"
   ]
  },
  {
   "cell_type": "code",
   "execution_count": 63,
   "metadata": {},
   "outputs": [
    {
     "data": {
      "text/html": [
       "<div>\n",
       "<style scoped>\n",
       "    .dataframe tbody tr th:only-of-type {\n",
       "        vertical-align: middle;\n",
       "    }\n",
       "\n",
       "    .dataframe tbody tr th {\n",
       "        vertical-align: top;\n",
       "    }\n",
       "\n",
       "    .dataframe thead th {\n",
       "        text-align: right;\n",
       "    }\n",
       "</style>\n",
       "<table border=\"1\" class=\"dataframe\">\n",
       "  <thead>\n",
       "    <tr style=\"text-align: right;\">\n",
       "      <th></th>\n",
       "      <th>Math_Score</th>\n",
       "      <th>Reading_Score</th>\n",
       "      <th>Writing_Score</th>\n",
       "      <th>Placement_Score</th>\n",
       "    </tr>\n",
       "    <tr>\n",
       "      <th>Club_Join_Date</th>\n",
       "      <th></th>\n",
       "      <th></th>\n",
       "      <th></th>\n",
       "      <th></th>\n",
       "    </tr>\n",
       "  </thead>\n",
       "  <tbody>\n",
       "    <tr>\n",
       "      <th>2018</th>\n",
       "      <td>79.168317</td>\n",
       "      <td>80.267327</td>\n",
       "      <td>79.396040</td>\n",
       "      <td>80.128713</td>\n",
       "    </tr>\n",
       "    <tr>\n",
       "      <th>2019</th>\n",
       "      <td>78.941176</td>\n",
       "      <td>80.088235</td>\n",
       "      <td>79.931373</td>\n",
       "      <td>80.254902</td>\n",
       "    </tr>\n",
       "    <tr>\n",
       "      <th>2020</th>\n",
       "      <td>79.262626</td>\n",
       "      <td>80.949495</td>\n",
       "      <td>78.878788</td>\n",
       "      <td>81.494949</td>\n",
       "    </tr>\n",
       "    <tr>\n",
       "      <th>2021</th>\n",
       "      <td>79.371134</td>\n",
       "      <td>77.350515</td>\n",
       "      <td>78.422680</td>\n",
       "      <td>79.494845</td>\n",
       "    </tr>\n",
       "  </tbody>\n",
       "</table>\n",
       "</div>"
      ],
      "text/plain": [
       "                Math_Score  Reading_Score  Writing_Score  Placement_Score\n",
       "Club_Join_Date                                                           \n",
       "2018             79.168317      80.267327      79.396040        80.128713\n",
       "2019             78.941176      80.088235      79.931373        80.254902\n",
       "2020             79.262626      80.949495      78.878788        81.494949\n",
       "2021             79.371134      77.350515      78.422680        79.494845"
      ]
     },
     "execution_count": 63,
     "metadata": {},
     "output_type": "execute_result"
    }
   ],
   "source": [
    "df.groupby('Club_Join_Date').mean()"
   ]
  },
  {
   "cell_type": "markdown",
   "metadata": {},
   "source": [
    "Conclusion > En el 2021 se tuvo un puntaje menor en comparacion con años anteriores"
   ]
  }
 ],
 "metadata": {
  "kernelspec": {
   "display_name": "Python 3",
   "language": "python",
   "name": "python3"
  },
  "language_info": {
   "codemirror_mode": {
    "name": "ipython",
    "version": 3
   },
   "file_extension": ".py",
   "mimetype": "text/x-python",
   "name": "python",
   "nbconvert_exporter": "python",
   "pygments_lexer": "ipython3",
   "version": "3.12.3"
  }
 },
 "nbformat": 4,
 "nbformat_minor": 2
}
