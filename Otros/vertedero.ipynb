{
 "cells": [
  {
   "cell_type": "code",
   "execution_count": null,
   "metadata": {},
   "outputs": [],
   "source": [
    "df_highest_performance = df[df['Placement_Score'] > 90]\n",
    "df_top_performance = df[df[\"Club_Join_Date\"] == 2021]\n",
    "df_top_performance = df_top_performance.merge(df_highest_performance, how='inner')\n",
    "df_top_performance = df_top_performance.sort_values(by=[\"Math_Score\", \"Reading_Score\", \"Writing_Score\", \"Placement_Score\", \"Club_Join_Date\"], ascending=[False, False, False, False, False])\n",
    "df_top_performance\n",
    "\n",
    "\n"
   ]
  },
  {
   "cell_type": "code",
   "execution_count": null,
   "metadata": {},
   "outputs": [],
   "source": [
    "placement_score = 90\n",
    "year = 2021\n",
    "df_top_performance_by_year = df[(df[\"Club_Join_Date\"] == 2021) & (df[\"Placement_Score\"] > 90)]\n",
    "df_top_performance_by_year"
   ]
  },
  {
   "cell_type": "code",
   "execution_count": null,
   "metadata": {},
   "outputs": [],
   "source": [
    "df_exploded = df.assign(Writers=df['Writers'].str.split(', ')).explode('Writers')\n",
    "\n",
    "calificaciones_escritores = df_exploded.groupby('Writers')['IMDB Rating'].mean().sort_values(ascending=False)\n",
    "df_calificaciones_escritores = pd.DataFrame(calificaciones_escritores).reset_index()\n",
    "df_calificaciones_escritores.columns = ['Escritor', 'Calificación Promedio']\n",
    "\n",
    "df_calificaciones_escritores\n"
   ]
  },
  {
   "cell_type": "code",
   "execution_count": null,
   "metadata": {},
   "outputs": [],
   "source": [
    "# Filtrar directores que aparecen más de 10 veces\n",
    "directores_frecuentes = cantidades_directores[cantidades_directores > 10].index\n",
    "\n",
    "df_directores_mas_frecuentes = df[df['Directors'].isin(directores_frecuentes)]\n",
    "df_directores_mas_frecuentes.head()"
   ]
  },
  {
   "cell_type": "code",
   "execution_count": null,
   "metadata": {},
   "outputs": [],
   "source": [
    "#peliculas_alta_calificacion = df.loc[df['Length in Min'] > 200]\n",
    "#peliculas_alta_calificacion"
   ]
  }
 ],
 "metadata": {
  "language_info": {
   "name": "python"
  }
 },
 "nbformat": 4,
 "nbformat_minor": 2
}
