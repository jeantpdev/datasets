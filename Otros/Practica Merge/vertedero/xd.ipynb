{
 "cells": [
  {
   "cell_type": "code",
   "execution_count": null,
   "metadata": {},
   "outputs": [],
   "source": [
    "import pandas as pd\n",
    "import numpy as np"
   ]
  },
  {
   "cell_type": "code",
   "execution_count": 1,
   "metadata": {},
   "outputs": [
    {
     "name": "stdout",
     "output_type": "stream",
     "text": [
      "    cuenta  agosto  septiembre  octubre  noviembre  diciembre   enero  \\\n",
      "0    10001  501465      519457   896033     384081     402869   88365   \n",
      "1    10002  955038      646256   261860     723680     323856  681736   \n",
      "2    10003  504722      190445   127006     444781     259962  364131   \n",
      "3    10004  495032      779714   755931     869257     413737  463671   \n",
      "4    10005  132984      570836     9871     914047     633251  733724   \n",
      "5    10006  604289      408177   361077     475710     580653  592924   \n",
      "6    10007  619646      755632   298533     948953     570692  639706   \n",
      "7    10008  593554      891515   980895     307353     956057  838468   \n",
      "8    10009  524965      781702   170626     558389     991414  472070   \n",
      "9    10010  303132      137159   939775     132464     386127  352723   \n",
      "10   10011  980666      529432   972377      94742     782131  801644   \n",
      "11   10012  111560      260990    82068     617389     581604  633339   \n",
      "12   10013  820369      705479    25453     377030     393336  905539   \n",
      "13   10014  874692      413804    24851     659576     372269  950645   \n",
      "14   10015  264257      404861   372296     778333     622917  403236   \n",
      "15   10016  235191       36712   409715     484684     955585  746751   \n",
      "16   10017  161329      174066   634442     244022     429300   42895   \n",
      "17   10018  741538      616898   715793     424911     269186  415677   \n",
      "18   10019  932754      438986   441719     677611     396425  173698   \n",
      "19   10020  207178       90390    22151     775427     917036  356705   \n",
      "20   10021  140638      170178   536715     478888     982974  508603   \n",
      "\n",
      "    Categoria  \n",
      "0     Recibos  \n",
      "1       Pagos  \n",
      "2   Servicios  \n",
      "3   Almendras  \n",
      "4     Recibos  \n",
      "5       Pagos  \n",
      "6   Servicios  \n",
      "7   Almendras  \n",
      "8     Recibos  \n",
      "9       Pagos  \n",
      "10  Servicios  \n",
      "11  Almendras  \n",
      "12    Recibos  \n",
      "13      Pagos  \n",
      "14  Servicios  \n",
      "15  Almendras  \n",
      "16    Recibos  \n",
      "17      Pagos  \n",
      "18  Servicios  \n",
      "19  Almendras  \n",
      "20    Recibos  \n"
     ]
    }
   ],
   "source": [
    "num_filas = 21\n",
    "\n",
    "cuentas = np.arange(10001, 10001 + num_filas)\n",
    "\n",
    "agosto = np.random.randint(0, 1000000, size=num_filas)\n",
    "septiembre = np.random.randint(0, 1000000, size=num_filas)\n",
    "octubre = np.random.randint(0, 1000000, size=num_filas)\n",
    "noviembre = np.random.randint(0, 1000000, size=num_filas)\n",
    "diciembre = np.random.randint(0, 1000000, size=num_filas)\n",
    "enero = np.random.randint(0, 1000000, size=num_filas)\n",
    "\n",
    "categorias = ['Recibos', 'Pagos', 'Servicios', 'Almendras']\n",
    "categorias_repetidas = [categorias[i % len(categorias)] for i in range(num_filas)]"
   ]
  },
  {
   "cell_type": "code",
   "execution_count": null,
   "metadata": {},
   "outputs": [],
   "source": [
    "# Crear el DataFrame\n",
    "data = {\n",
    "    'cuenta': cuentas,\n",
    "    'agosto': agosto,\n",
    "    'septiembre': septiembre,\n",
    "    'octubre': octubre,\n",
    "    'noviembre': noviembre,\n",
    "    'diciembre': diciembre,\n",
    "    'enero': enero,\n",
    "    'Categoria': categorias_repetidas\n",
    "}\n",
    "\n",
    "df = pd.DataFrame(data)"
   ]
  },
  {
   "cell_type": "code",
   "execution_count": null,
   "metadata": {},
   "outputs": [],
   "source": [
    "df"
   ]
  },
  {
   "cell_type": "code",
   "execution_count": 2,
   "metadata": {},
   "outputs": [],
   "source": [
    "df.to_excel(\"principal2.xlsx\", index = False)"
   ]
  }
 ],
 "metadata": {
  "kernelspec": {
   "display_name": "Python 3",
   "language": "python",
   "name": "python3"
  },
  "language_info": {
   "codemirror_mode": {
    "name": "ipython",
    "version": 3
   },
   "file_extension": ".py",
   "mimetype": "text/x-python",
   "name": "python",
   "nbconvert_exporter": "python",
   "pygments_lexer": "ipython3",
   "version": "3.8.0"
  }
 },
 "nbformat": 4,
 "nbformat_minor": 2
}
